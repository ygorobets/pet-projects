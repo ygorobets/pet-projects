{
 "cells": [
  {
   "cell_type": "code",
   "execution_count": 24,
   "id": "4dc49e01-b45a-4847-8825-375cce27479e",
   "metadata": {},
   "outputs": [],
   "source": [
    "import pandas as pd\n",
    "import matplotlib.pyplot as plt\n",
    "import json\n",
    "from google.cloud import storage\n",
    "import os"
   ]
  },
  {
   "cell_type": "markdown",
   "id": "d9242794-db2c-48a5-8cab-d1e3d1c79819",
   "metadata": {
    "panel-layout": {
     "height": 68.27083587646484,
     "visible": true,
     "width": 100
    }
   },
   "source": [
    "Завантажте дані у DataFrame і ознайомтеся зі структурою даних (виведіть перші 5 рядків)."
   ]
  },
  {
   "cell_type": "code",
   "execution_count": 4,
   "id": "b9bcb343-5935-4a4e-9dcf-4cc9179cf1a2",
   "metadata": {
    "panel-layout": {
     "height": 0,
     "visible": true,
     "width": 100
    }
   },
   "outputs": [
    {
     "data": {
      "text/html": [
       "<div>\n",
       "<style scoped>\n",
       "    .dataframe tbody tr th:only-of-type {\n",
       "        vertical-align: middle;\n",
       "    }\n",
       "\n",
       "    .dataframe tbody tr th {\n",
       "        vertical-align: top;\n",
       "    }\n",
       "\n",
       "    .dataframe thead th {\n",
       "        text-align: right;\n",
       "    }\n",
       "</style>\n",
       "<table border=\"1\" class=\"dataframe\">\n",
       "  <thead>\n",
       "    <tr style=\"text-align: right;\">\n",
       "      <th></th>\n",
       "      <th>Order ID</th>\n",
       "      <th>Date</th>\n",
       "      <th>Product</th>\n",
       "      <th>Quantity Sold</th>\n",
       "      <th>Price per Unit</th>\n",
       "      <th>Region</th>\n",
       "    </tr>\n",
       "  </thead>\n",
       "  <tbody>\n",
       "    <tr>\n",
       "      <th>0</th>\n",
       "      <td>101</td>\n",
       "      <td>2024-01-15</td>\n",
       "      <td>Laptop</td>\n",
       "      <td>3</td>\n",
       "      <td>1200</td>\n",
       "      <td>North</td>\n",
       "    </tr>\n",
       "    <tr>\n",
       "      <th>1</th>\n",
       "      <td>102</td>\n",
       "      <td>2024-01-18</td>\n",
       "      <td>Mouse</td>\n",
       "      <td>10</td>\n",
       "      <td>25</td>\n",
       "      <td>East</td>\n",
       "    </tr>\n",
       "    <tr>\n",
       "      <th>2</th>\n",
       "      <td>103</td>\n",
       "      <td>2024-02-05</td>\n",
       "      <td>Keyboard</td>\n",
       "      <td>5</td>\n",
       "      <td>45</td>\n",
       "      <td>West</td>\n",
       "    </tr>\n",
       "    <tr>\n",
       "      <th>3</th>\n",
       "      <td>104</td>\n",
       "      <td>2024-02-20</td>\n",
       "      <td>Monitor</td>\n",
       "      <td>2</td>\n",
       "      <td>300</td>\n",
       "      <td>North</td>\n",
       "    </tr>\n",
       "    <tr>\n",
       "      <th>4</th>\n",
       "      <td>105</td>\n",
       "      <td>2024-03-01</td>\n",
       "      <td>Laptop</td>\n",
       "      <td>4</td>\n",
       "      <td>1200</td>\n",
       "      <td>South</td>\n",
       "    </tr>\n",
       "  </tbody>\n",
       "</table>\n",
       "</div>"
      ],
      "text/plain": [
       "   Order ID        Date   Product  Quantity Sold  Price per Unit Region\n",
       "0       101  2024-01-15    Laptop              3            1200  North\n",
       "1       102  2024-01-18     Mouse             10              25   East\n",
       "2       103  2024-02-05  Keyboard              5              45   West\n",
       "3       104  2024-02-20   Monitor              2             300  North\n",
       "4       105  2024-03-01    Laptop              4            1200  South"
      ]
     },
     "execution_count": 4,
     "metadata": {},
     "output_type": "execute_result"
    }
   ],
   "source": [
    "df = pd.read_csv('C:/Users/igoro/Documents/Epam/Python/Pet-projects/datasets/sales_data.csv')\n",
    "df.head()"
   ]
  },
  {
   "cell_type": "markdown",
   "id": "9be862b1-a2ba-4f9f-8031-d761f5d14a43",
   "metadata": {
    "panel-layout": {
     "height": 51.13541793823242,
     "visible": true,
     "width": 100
    }
   },
   "source": [
    "Виведіть розміри таблиці, типи даних."
   ]
  },
  {
   "cell_type": "code",
   "execution_count": 5,
   "id": "b4c9da4f-8daf-4ecf-ba26-a1a67284826a",
   "metadata": {
    "panel-layout": {
     "height": 0,
     "visible": true,
     "width": 100
    }
   },
   "outputs": [
    {
     "name": "stdout",
     "output_type": "stream",
     "text": [
      "<class 'pandas.core.frame.DataFrame'>\n",
      "RangeIndex: 10 entries, 0 to 9\n",
      "Data columns (total 6 columns):\n",
      " #   Column          Non-Null Count  Dtype \n",
      "---  ------          --------------  ----- \n",
      " 0   Order ID        10 non-null     int64 \n",
      " 1   Date            10 non-null     object\n",
      " 2   Product         10 non-null     object\n",
      " 3   Quantity Sold   10 non-null     int64 \n",
      " 4   Price per Unit  10 non-null     int64 \n",
      " 5   Region          10 non-null     object\n",
      "dtypes: int64(3), object(3)\n",
      "memory usage: 612.0+ bytes\n"
     ]
    }
   ],
   "source": [
    "df.info()"
   ]
  },
  {
   "cell_type": "markdown",
   "id": "0b1cff31-f34d-4512-a119-3b0d44daf65c",
   "metadata": {},
   "source": [
    "Перегляньте кількість рядків і стовбців."
   ]
  },
  {
   "cell_type": "code",
   "execution_count": 6,
   "id": "191dea3d-77f2-487a-8367-e43350080075",
   "metadata": {},
   "outputs": [
    {
     "data": {
      "text/plain": [
       "(10, 6)"
      ]
     },
     "execution_count": 6,
     "metadata": {},
     "output_type": "execute_result"
    }
   ],
   "source": [
    "df.shape"
   ]
  },
  {
   "cell_type": "markdown",
   "id": "c98d7a05-b89f-4612-ae0b-e304c1fe4710",
   "metadata": {
    "panel-layout": {
     "height": 51.13541793823242,
     "visible": true,
     "width": 100
    }
   },
   "source": [
    "Виведіть описову статистику даних"
   ]
  },
  {
   "cell_type": "code",
   "execution_count": 7,
   "id": "111c4294-8900-44c0-a2be-44dd7190124a",
   "metadata": {
    "panel-layout": {
     "height": 0,
     "visible": true,
     "width": 100
    }
   },
   "outputs": [
    {
     "data": {
      "text/html": [
       "<div>\n",
       "<style scoped>\n",
       "    .dataframe tbody tr th:only-of-type {\n",
       "        vertical-align: middle;\n",
       "    }\n",
       "\n",
       "    .dataframe tbody tr th {\n",
       "        vertical-align: top;\n",
       "    }\n",
       "\n",
       "    .dataframe thead th {\n",
       "        text-align: right;\n",
       "    }\n",
       "</style>\n",
       "<table border=\"1\" class=\"dataframe\">\n",
       "  <thead>\n",
       "    <tr style=\"text-align: right;\">\n",
       "      <th></th>\n",
       "      <th>Order ID</th>\n",
       "      <th>Quantity Sold</th>\n",
       "      <th>Price per Unit</th>\n",
       "    </tr>\n",
       "  </thead>\n",
       "  <tbody>\n",
       "    <tr>\n",
       "      <th>count</th>\n",
       "      <td>10.00000</td>\n",
       "      <td>10.000000</td>\n",
       "      <td>10.000000</td>\n",
       "    </tr>\n",
       "    <tr>\n",
       "      <th>mean</th>\n",
       "      <td>105.50000</td>\n",
       "      <td>5.300000</td>\n",
       "      <td>436.500000</td>\n",
       "    </tr>\n",
       "    <tr>\n",
       "      <th>std</th>\n",
       "      <td>3.02765</td>\n",
       "      <td>3.683296</td>\n",
       "      <td>537.546122</td>\n",
       "    </tr>\n",
       "    <tr>\n",
       "      <th>min</th>\n",
       "      <td>101.00000</td>\n",
       "      <td>1.000000</td>\n",
       "      <td>25.000000</td>\n",
       "    </tr>\n",
       "    <tr>\n",
       "      <th>25%</th>\n",
       "      <td>103.25000</td>\n",
       "      <td>2.250000</td>\n",
       "      <td>30.000000</td>\n",
       "    </tr>\n",
       "    <tr>\n",
       "      <th>50%</th>\n",
       "      <td>105.50000</td>\n",
       "      <td>4.500000</td>\n",
       "      <td>172.500000</td>\n",
       "    </tr>\n",
       "    <tr>\n",
       "      <th>75%</th>\n",
       "      <td>107.75000</td>\n",
       "      <td>7.500000</td>\n",
       "      <td>975.000000</td>\n",
       "    </tr>\n",
       "    <tr>\n",
       "      <th>max</th>\n",
       "      <td>110.00000</td>\n",
       "      <td>12.000000</td>\n",
       "      <td>1200.000000</td>\n",
       "    </tr>\n",
       "  </tbody>\n",
       "</table>\n",
       "</div>"
      ],
      "text/plain": [
       "        Order ID  Quantity Sold  Price per Unit\n",
       "count   10.00000      10.000000       10.000000\n",
       "mean   105.50000       5.300000      436.500000\n",
       "std      3.02765       3.683296      537.546122\n",
       "min    101.00000       1.000000       25.000000\n",
       "25%    103.25000       2.250000       30.000000\n",
       "50%    105.50000       4.500000      172.500000\n",
       "75%    107.75000       7.500000      975.000000\n",
       "max    110.00000      12.000000     1200.000000"
      ]
     },
     "execution_count": 7,
     "metadata": {},
     "output_type": "execute_result"
    }
   ],
   "source": [
    "df.describe()"
   ]
  },
  {
   "cell_type": "markdown",
   "id": "730fcb01-1c7a-493f-a50d-a8cb9afea21f",
   "metadata": {},
   "source": [
    "Перевірте наявність пропусків та дублікатів."
   ]
  },
  {
   "cell_type": "code",
   "execution_count": 8,
   "id": "6774a01b-4389-452a-b9a3-f57290ff6190",
   "metadata": {},
   "outputs": [
    {
     "data": {
      "text/plain": [
       "Order ID          0\n",
       "Date              0\n",
       "Product           0\n",
       "Quantity Sold     0\n",
       "Price per Unit    0\n",
       "Region            0\n",
       "dtype: int64"
      ]
     },
     "execution_count": 8,
     "metadata": {},
     "output_type": "execute_result"
    }
   ],
   "source": [
    "df.isnull().sum()"
   ]
  },
  {
   "cell_type": "code",
   "execution_count": 9,
   "id": "5d35972b-3e99-4103-b432-14f241f3dc0d",
   "metadata": {},
   "outputs": [
    {
     "data": {
      "text/plain": [
       "0"
      ]
     },
     "execution_count": 9,
     "metadata": {},
     "output_type": "execute_result"
    }
   ],
   "source": [
    "df.duplicated().sum()"
   ]
  },
  {
   "cell_type": "markdown",
   "id": "efa24454-63b8-4f7f-a056-2fdf4006dc34",
   "metadata": {},
   "source": [
    "Переконайтеся, що дані мають правильний формат (наприклад, дати)."
   ]
  },
  {
   "cell_type": "code",
   "execution_count": 10,
   "id": "8f9fc608-92dc-407c-a53d-545ab32c1751",
   "metadata": {},
   "outputs": [],
   "source": [
    "df['Date'] = pd.to_datetime(df['Date'])"
   ]
  },
  {
   "cell_type": "markdown",
   "id": "16132bf4-13d4-46f8-9dc2-2d4f36baed1f",
   "metadata": {},
   "source": [
    "Додайте новий стовпець Total Revenue, що містить загальний дохід для кожного замовлення (Quantity Sold * Price per Unit)."
   ]
  },
  {
   "cell_type": "code",
   "execution_count": 11,
   "id": "e621da1e-4e55-402b-ad0e-2e8c9016cafa",
   "metadata": {},
   "outputs": [
    {
     "data": {
      "text/html": [
       "<div>\n",
       "<style scoped>\n",
       "    .dataframe tbody tr th:only-of-type {\n",
       "        vertical-align: middle;\n",
       "    }\n",
       "\n",
       "    .dataframe tbody tr th {\n",
       "        vertical-align: top;\n",
       "    }\n",
       "\n",
       "    .dataframe thead th {\n",
       "        text-align: right;\n",
       "    }\n",
       "</style>\n",
       "<table border=\"1\" class=\"dataframe\">\n",
       "  <thead>\n",
       "    <tr style=\"text-align: right;\">\n",
       "      <th></th>\n",
       "      <th>Order ID</th>\n",
       "      <th>Date</th>\n",
       "      <th>Product</th>\n",
       "      <th>Quantity Sold</th>\n",
       "      <th>Price per Unit</th>\n",
       "      <th>Region</th>\n",
       "      <th>Total Revenue</th>\n",
       "    </tr>\n",
       "  </thead>\n",
       "  <tbody>\n",
       "    <tr>\n",
       "      <th>0</th>\n",
       "      <td>101</td>\n",
       "      <td>2024-01-15</td>\n",
       "      <td>Laptop</td>\n",
       "      <td>3</td>\n",
       "      <td>1200</td>\n",
       "      <td>North</td>\n",
       "      <td>3600</td>\n",
       "    </tr>\n",
       "    <tr>\n",
       "      <th>1</th>\n",
       "      <td>102</td>\n",
       "      <td>2024-01-18</td>\n",
       "      <td>Mouse</td>\n",
       "      <td>10</td>\n",
       "      <td>25</td>\n",
       "      <td>East</td>\n",
       "      <td>250</td>\n",
       "    </tr>\n",
       "    <tr>\n",
       "      <th>2</th>\n",
       "      <td>103</td>\n",
       "      <td>2024-02-05</td>\n",
       "      <td>Keyboard</td>\n",
       "      <td>5</td>\n",
       "      <td>45</td>\n",
       "      <td>West</td>\n",
       "      <td>225</td>\n",
       "    </tr>\n",
       "    <tr>\n",
       "      <th>3</th>\n",
       "      <td>104</td>\n",
       "      <td>2024-02-20</td>\n",
       "      <td>Monitor</td>\n",
       "      <td>2</td>\n",
       "      <td>300</td>\n",
       "      <td>North</td>\n",
       "      <td>600</td>\n",
       "    </tr>\n",
       "    <tr>\n",
       "      <th>4</th>\n",
       "      <td>105</td>\n",
       "      <td>2024-03-01</td>\n",
       "      <td>Laptop</td>\n",
       "      <td>4</td>\n",
       "      <td>1200</td>\n",
       "      <td>South</td>\n",
       "      <td>4800</td>\n",
       "    </tr>\n",
       "  </tbody>\n",
       "</table>\n",
       "</div>"
      ],
      "text/plain": [
       "   Order ID       Date   Product  Quantity Sold  Price per Unit Region  \\\n",
       "0       101 2024-01-15    Laptop              3            1200  North   \n",
       "1       102 2024-01-18     Mouse             10              25   East   \n",
       "2       103 2024-02-05  Keyboard              5              45   West   \n",
       "3       104 2024-02-20   Monitor              2             300  North   \n",
       "4       105 2024-03-01    Laptop              4            1200  South   \n",
       "\n",
       "   Total Revenue  \n",
       "0           3600  \n",
       "1            250  \n",
       "2            225  \n",
       "3            600  \n",
       "4           4800  "
      ]
     },
     "execution_count": 11,
     "metadata": {},
     "output_type": "execute_result"
    }
   ],
   "source": [
    "df['Total Revenue'] = df['Quantity Sold'] * df['Price per Unit'] \n",
    "df.head()"
   ]
  },
  {
   "cell_type": "markdown",
   "id": "617e62fc-a87a-4b1e-9812-1c32c5a82bc2",
   "metadata": {},
   "source": [
    "Який продукт був проданий у найбільшій кількості?"
   ]
  },
  {
   "cell_type": "code",
   "execution_count": 12,
   "id": "535a5833-abf8-4a84-9cf4-7ea314048a4f",
   "metadata": {},
   "outputs": [
    {
     "data": {
      "text/plain": [
       "Product\n",
       "Mouse    30\n",
       "Name: Quantity Sold, dtype: int64"
      ]
     },
     "execution_count": 12,
     "metadata": {},
     "output_type": "execute_result"
    }
   ],
   "source": [
    "grouped_df = df.groupby('Product')['Quantity Sold'].sum()\n",
    "sorted_df = grouped_df.sort_values(ascending=False)\n",
    "sorted_df.head(1)"
   ]
  },
  {
   "cell_type": "markdown",
   "id": "3ad269a2-128e-49d2-b3a1-6ee751ba32ad",
   "metadata": {},
   "source": [
    "Який регіон забезпечив найбільший дохід?"
   ]
  },
  {
   "cell_type": "code",
   "execution_count": 13,
   "id": "32f9c2b5-3c83-4297-addc-496aadabf87c",
   "metadata": {},
   "outputs": [
    {
     "data": {
      "text/plain": [
       "Region\n",
       "North    6600\n",
       "Name: Total Revenue, dtype: int64"
      ]
     },
     "execution_count": 13,
     "metadata": {},
     "output_type": "execute_result"
    }
   ],
   "source": [
    "grouped_df = df.groupby('Region')['Total Revenue'].sum()\n",
    "sorted_df = grouped_df.sort_values(ascending=False)\n",
    "sorted_df.head(1)"
   ]
  },
  {
   "cell_type": "markdown",
   "id": "6fa1f965-774d-4399-b701-2a3a7db51951",
   "metadata": {},
   "source": [
    "Відфільтруйте дані, щоб побачити замовлення лише за останній місяць (припустимо, дані охоплюють перший квартал 2024 року)."
   ]
  },
  {
   "cell_type": "code",
   "execution_count": 14,
   "id": "ad35bb04-23c4-44aa-a69e-f3b327bf9a68",
   "metadata": {},
   "outputs": [
    {
     "data": {
      "text/html": [
       "<div>\n",
       "<style scoped>\n",
       "    .dataframe tbody tr th:only-of-type {\n",
       "        vertical-align: middle;\n",
       "    }\n",
       "\n",
       "    .dataframe tbody tr th {\n",
       "        vertical-align: top;\n",
       "    }\n",
       "\n",
       "    .dataframe thead th {\n",
       "        text-align: right;\n",
       "    }\n",
       "</style>\n",
       "<table border=\"1\" class=\"dataframe\">\n",
       "  <thead>\n",
       "    <tr style=\"text-align: right;\">\n",
       "      <th></th>\n",
       "      <th>Order ID</th>\n",
       "      <th>Date</th>\n",
       "      <th>Product</th>\n",
       "      <th>Quantity Sold</th>\n",
       "      <th>Price per Unit</th>\n",
       "      <th>Region</th>\n",
       "      <th>Total Revenue</th>\n",
       "    </tr>\n",
       "  </thead>\n",
       "  <tbody>\n",
       "    <tr>\n",
       "      <th>4</th>\n",
       "      <td>105</td>\n",
       "      <td>2024-03-01</td>\n",
       "      <td>Laptop</td>\n",
       "      <td>4</td>\n",
       "      <td>1200</td>\n",
       "      <td>South</td>\n",
       "      <td>4800</td>\n",
       "    </tr>\n",
       "    <tr>\n",
       "      <th>5</th>\n",
       "      <td>106</td>\n",
       "      <td>2024-03-05</td>\n",
       "      <td>Mouse</td>\n",
       "      <td>12</td>\n",
       "      <td>25</td>\n",
       "      <td>East</td>\n",
       "      <td>300</td>\n",
       "    </tr>\n",
       "    <tr>\n",
       "      <th>6</th>\n",
       "      <td>107</td>\n",
       "      <td>2024-03-10</td>\n",
       "      <td>Monitor</td>\n",
       "      <td>1</td>\n",
       "      <td>300</td>\n",
       "      <td>South</td>\n",
       "      <td>300</td>\n",
       "    </tr>\n",
       "    <tr>\n",
       "      <th>7</th>\n",
       "      <td>108</td>\n",
       "      <td>2024-03-15</td>\n",
       "      <td>Keyboard</td>\n",
       "      <td>6</td>\n",
       "      <td>45</td>\n",
       "      <td>West</td>\n",
       "      <td>270</td>\n",
       "    </tr>\n",
       "    <tr>\n",
       "      <th>8</th>\n",
       "      <td>109</td>\n",
       "      <td>2024-03-20</td>\n",
       "      <td>Laptop</td>\n",
       "      <td>2</td>\n",
       "      <td>1200</td>\n",
       "      <td>North</td>\n",
       "      <td>2400</td>\n",
       "    </tr>\n",
       "  </tbody>\n",
       "</table>\n",
       "</div>"
      ],
      "text/plain": [
       "   Order ID       Date   Product  Quantity Sold  Price per Unit Region  \\\n",
       "4       105 2024-03-01    Laptop              4            1200  South   \n",
       "5       106 2024-03-05     Mouse             12              25   East   \n",
       "6       107 2024-03-10   Monitor              1             300  South   \n",
       "7       108 2024-03-15  Keyboard              6              45   West   \n",
       "8       109 2024-03-20    Laptop              2            1200  North   \n",
       "\n",
       "   Total Revenue  \n",
       "4           4800  \n",
       "5            300  \n",
       "6            300  \n",
       "7            270  \n",
       "8           2400  "
      ]
     },
     "execution_count": 14,
     "metadata": {},
     "output_type": "execute_result"
    }
   ],
   "source": [
    "sales_03 = df[df['Date'].dt.month == 3]\n",
    "sales_03.head()"
   ]
  },
  {
   "cell_type": "markdown",
   "id": "3070d7ef-35ca-4012-a223-aef892eac3a2",
   "metadata": {},
   "source": [
    "Побудуйте графік із загальним доходом для кожного регіону."
   ]
  },
  {
   "cell_type": "code",
   "execution_count": 15,
   "id": "20105d71-8266-4a23-8f01-7c74013e5b13",
   "metadata": {},
   "outputs": [
    {
     "data": {
      "image/png": "[encoded data removed]",
      "text/plain": [
       "<Figure size 640x480 with 1 Axes>"
      ]
     },
     "metadata": {},
     "output_type": "display_data"
    }
   ],
   "source": [
    "df.plot(x='Region', y='Total Revenue', kind='bar', fontsize=12, color='green')\n",
    "plt.title('Total Revenue by Region') \n",
    "plt.xticks(rotation=45)\n",
    "\n",
    "plt.show()"
   ]
  },
  {
   "cell_type": "markdown",
   "id": "77585b5d-157e-45c9-a2cc-2636d4c6538b",
   "metadata": {},
   "source": [
    "Збережіть оновлений DataFrame у новий файл sales_data_updated.csv"
   ]
  },
  {
   "cell_type": "code",
   "execution_count": 16,
   "id": "770c177a-408b-4b43-8c51-6c2ddf82738c",
   "metadata": {},
   "outputs": [],
   "source": [
    "df.to_csv('sales_data_updated.csv', index=False)"
   ]
  },
  {
   "cell_type": "markdown",
   "id": "ebc332b5-f7f7-41e6-a654-7eaf2e3b39ef",
   "metadata": {},
   "source": [
    "Збережіть оновлений DataFrame у новий файл sales_data_updated.json та збережіть в Google Cloud Storage (GCS)"
   ]
  },
  {
   "cell_type": "code",
   "execution_count": 29,
   "id": "25caec53-1681-4b22-be20-906e2cc87b9e",
   "metadata": {},
   "outputs": [
    {
     "name": "stdout",
     "output_type": "stream",
     "text": [
      "Файл sales_data_updated.json завантажено до бакету yulia_pet_projects як uploaded_sales_data_updated.json.\n",
      "Список файлів у бакеті:\n",
      "sales_data_updated.csv\n",
      "uploaded_sales_data_updated.csv\n",
      "uploaded_sales_data_updated.json\n"
     ]
    }
   ],
   "source": [
    "df.to_json('sales_data_updated.json', orient='records', indent=4)\n",
    "\n",
    "os.environ[\"GOOGLE_APPLICATION_CREDENTIALS\"] = \"solar-cycle-444310-c8-aa12d1b12a2a.json\"\n",
    "\n",
    "def upload_to_gcs(bucket_name, source_file_name, destination_blob_name):\n",
    "    \"\"\"\n",
    "    Завантажує файл у Google Cloud Storage.\n",
    "    \n",
    "    Args:\n",
    "        bucket_name (str): Назва бакету в GCP.\n",
    "        source_file_name (str): Локальний шлях до файлу.\n",
    "        destination_blob_name (str): Назва файлу в бакеті.\n",
    "    \"\"\"\n",
    "    # Ініціалізуємо клієнт GCP\n",
    "    storage_client = storage.Client()\n",
    "\n",
    "    # Отримуємо бакет\n",
    "    bucket = storage_client.bucket(bucket_name)\n",
    "\n",
    "    # Завантажуємо файл\n",
    "    blob = bucket.blob(destination_blob_name)\n",
    "    blob.upload_from_filename(source_file_name)\n",
    "\n",
    "    print(f\"Файл {source_file_name} завантажено до бакету {bucket_name} як {destination_blob_name}.\")\n",
    "    \n",
    "    # Виводимо список файлів в бакеті\n",
    "    blobs = storage_client.list_blobs(bucket_name)\n",
    "    print(\"Список файлів в бакеті:\")\n",
    "    for blob in blobs:\n",
    "        print(blob.name)\n",
    "\n",
    "# Виклик функції\n",
    "bucket_name = 'yulia_pet_projects'  # Змініть на назву вашого бакету\n",
    "source_file_name = 'sales_data_updated.json'  # Локальний файл\n",
    "destination_blob_name = 'uploaded_sales_data_updated.json'  # Ім'я файлу в бакеті\n",
    "\n",
    "upload_to_gcs(bucket_name, source_file_name, destination_blob_name)"
   ]
  }
 ],
 "metadata": {
  "kernelspec": {
   "display_name": "Python 3 (ipykernel)",
   "language": "python",
   "name": "python3"
  },
  "language_info": {
   "codemirror_mode": {
    "name": "ipython",
    "version": 3
   },
   "file_extension": ".py",
   "mimetype": "text/x-python",
   "name": "python",
   "nbconvert_exporter": "python",
   "pygments_lexer": "ipython3",
   "version": "3.12.7"
  },
  "panel-cell-order": [
   "0a09b316-c100-4391-81a0-b50f8e7f02e2",
   "b9bcb343-5935-4a4e-9dcf-4cc9179cf1a2",
   "6f78c2cd-90d2-41da-b6ac-34edbfb28cd8",
   "b4c9da4f-8daf-4ecf-ba26-a1a67284826a",
   "f2aa5124-1468-42cb-a1cf-c98d11a7f89f",
   "111c4294-8900-44c0-a2be-44dd7190124a"
  ]
 },
 "nbformat": 4,
 "nbformat_minor": 5
}
